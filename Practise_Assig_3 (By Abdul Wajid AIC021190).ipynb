{
 "cells": [
  {
   "cell_type": "markdown",
   "metadata": {},
   "source": [
    "# Q1:"
   ]
  },
  {
   "cell_type": "markdown",
   "metadata": {},
   "source": [
    "Think of at least three kinds of your favorite pizza. Store these pizza names in a list, and then use a for loop to print the name of each pizza."
   ]
  },
  {
   "cell_type": "code",
   "execution_count": 4,
   "metadata": {},
   "outputs": [],
   "source": [
    "Pizza = [\"Chiken Tikka\", \"Fajita\",\"Pepperoni\"]"
   ]
  },
  {
   "cell_type": "code",
   "execution_count": 49,
   "metadata": {},
   "outputs": [
    {
     "name": "stdout",
     "output_type": "stream",
     "text": [
      "Chiken Tikka\n",
      "Fajita\n",
      "Pepperoni\n"
     ]
    }
   ],
   "source": [
    "for a in Pizza:\n",
    "    print(a)"
   ]
  },
  {
   "cell_type": "markdown",
   "metadata": {},
   "source": [
    "# Q2"
   ]
  },
  {
   "cell_type": "markdown",
   "metadata": {},
   "source": [
    "Start with your last question , Modify your for loop to print a sentence using the name of the pizza\n",
    "instead of printing just the name of the pizza. For each pizza you should\n",
    "have one line of output containing a simple statement like I like pepperoni\n",
    "pizza."
   ]
  },
  {
   "cell_type": "code",
   "execution_count": 6,
   "metadata": {},
   "outputs": [
    {
     "name": "stdout",
     "output_type": "stream",
     "text": [
      "I Like  Chiken Tikka\n",
      "I Like  Fajita\n",
      "I Like  Pepperoni\n"
     ]
    }
   ],
   "source": [
    "for a in Pizza:\n",
    "    print(\"I Like \",(a))"
   ]
  },
  {
   "cell_type": "markdown",
   "metadata": {},
   "source": [
    "# Q3:"
   ]
  },
  {
   "cell_type": "markdown",
   "metadata": {},
   "source": [
    "Use a for loop to print the numbers from 1 to 20,\n",
    "inclusive."
   ]
  },
  {
   "cell_type": "code",
   "execution_count": 10,
   "metadata": {},
   "outputs": [
    {
     "name": "stdout",
     "output_type": "stream",
     "text": [
      "1\n",
      "2\n",
      "3\n",
      "4\n",
      "5\n",
      "6\n",
      "7\n",
      "8\n",
      "9\n",
      "10\n",
      "11\n",
      "12\n",
      "13\n",
      "14\n",
      "15\n",
      "16\n",
      "17\n",
      "18\n",
      "19\n",
      "20\n"
     ]
    }
   ],
   "source": [
    "for a in range(1,21):\n",
    "    print(a)"
   ]
  },
  {
   "cell_type": "markdown",
   "metadata": {},
   "source": [
    "# Q4:"
   ]
  },
  {
   "cell_type": "markdown",
   "metadata": {},
   "source": [
    "Use the third argument of the range() function to make a list\n",
    "of the odd numbers from 1 to 20. Use a for loop to print each number."
   ]
  },
  {
   "cell_type": "code",
   "execution_count": 16,
   "metadata": {},
   "outputs": [],
   "source": [
    "b = list(range(1,21,2))"
   ]
  },
  {
   "cell_type": "code",
   "execution_count": 17,
   "metadata": {},
   "outputs": [
    {
     "name": "stdout",
     "output_type": "stream",
     "text": [
      "1\n",
      "3\n",
      "5\n",
      "7\n",
      "9\n",
      "11\n",
      "13\n",
      "15\n",
      "17\n",
      "19\n"
     ]
    }
   ],
   "source": [
    "for i in b:\n",
    "    print(i)"
   ]
  },
  {
   "cell_type": "markdown",
   "metadata": {},
   "source": [
    "# Q5:"
   ]
  },
  {
   "cell_type": "markdown",
   "metadata": {},
   "source": [
    "Make a list of the multiples of 3 from 3 to 30. Use a for loop to\n",
    "print the numbers in your list."
   ]
  },
  {
   "cell_type": "code",
   "execution_count": 26,
   "metadata": {},
   "outputs": [
    {
     "name": "stdout",
     "output_type": "stream",
     "text": [
      "[3, 6, 9, 12, 15, 18, 21, 24, 27, 30]\n"
     ]
    }
   ],
   "source": [
    "c = [ i for i in range(3, 31) if i % 3 == 0]\n",
    "print(c)"
   ]
  },
  {
   "cell_type": "markdown",
   "metadata": {},
   "source": [
    "# Q6:"
   ]
  },
  {
   "cell_type": "markdown",
   "metadata": {},
   "source": [
    "A number raised to the third power is called a cube. For example,\n",
    "the cube of 2 is written as 2**3 in Python. Make a list of the first 10 cubes (that\n",
    "is, the cube of each integer from 1 through 10), and use a for loop to print out\n",
    "the value of each cube"
   ]
  },
  {
   "cell_type": "code",
   "execution_count": 27,
   "metadata": {},
   "outputs": [
    {
     "data": {
      "text/plain": [
       "[1, 8, 27, 64, 125, 216, 343, 512, 729, 1000]"
      ]
     },
     "execution_count": 27,
     "metadata": {},
     "output_type": "execute_result"
    }
   ],
   "source": [
    "d= [i**3 for i in range(1,11)]\n",
    "d"
   ]
  },
  {
   "cell_type": "markdown",
   "metadata": {},
   "source": [
    "# Q7:"
   ]
  },
  {
   "cell_type": "markdown",
   "metadata": {},
   "source": [
    "###### Make a python program that conatains your nine favourite dishes in a list called foods.\n",
    "\n",
    "###### Print the message, The first three items in the list are:. \n",
    "###### Then use a slice to print the first three items from that program’s list.\n",
    "\n",
    "###### Print the message, Three items from the middle of the list are:\n",
    "###### Use a slice to print three items from the middle of the list.\n",
    "\n",
    "###### Print the message, The last three items in the list are:\n",
    "###### Use a slice to print the last three items in the list."
   ]
  },
  {
   "cell_type": "code",
   "execution_count": 41,
   "metadata": {},
   "outputs": [],
   "source": [
    "foods = [\"Biryani\",\"Pizza\",\"Tikka\",\"Chapli Kebab\",\"Broast\",\"Chicken Mayo Roll\",\"Double Decker\",\"Allo ke Chips\",\"Ande wala burger\"]"
   ]
  },
  {
   "cell_type": "code",
   "execution_count": 42,
   "metadata": {},
   "outputs": [
    {
     "name": "stdout",
     "output_type": "stream",
     "text": [
      "The First Three Items Are : \n",
      "['Biryani', 'Pizza', 'Tikka']\n"
     ]
    }
   ],
   "source": [
    "print(\"The First Three Items Are : \")\n",
    "print(foods[0:3])"
   ]
  },
  {
   "cell_type": "code",
   "execution_count": 43,
   "metadata": {},
   "outputs": [
    {
     "name": "stdout",
     "output_type": "stream",
     "text": [
      "The Middle Three Items Are : \n",
      "['Chapli Kebab', 'Broast', 'Chicken Mayo Roll']\n"
     ]
    }
   ],
   "source": [
    "print(\"The Middle Three Items Are : \")\n",
    "print(foods[3:6])"
   ]
  },
  {
   "cell_type": "code",
   "execution_count": 44,
   "metadata": {},
   "outputs": [
    {
     "name": "stdout",
     "output_type": "stream",
     "text": [
      "The Last Three Items Are : \n",
      "['Double Decker', 'Allo ke Chips', 'Ande wala burger']\n"
     ]
    }
   ],
   "source": [
    "print(\"The Last Three Items Are : \")\n",
    "print(foods[6:9])"
   ]
  },
  {
   "cell_type": "markdown",
   "metadata": {},
   "source": [
    "# Q8:"
   ]
  },
  {
   "cell_type": "markdown",
   "metadata": {},
   "source": [
    "### Start with your program from your last Question8.\n",
    "###### Make a copy of the list of foods, and call it friend_foods.\n",
    "###### Then, do the following:\n",
    "######    Add a new dish to the original list.\n",
    "######    Add a different dish to the list friend_foodss.\n",
    "######    Prove that you have two separate lists. \n",
    "###### Print the message, My favorite pizzas are: and then use a for loop to print the first list. \n",
    "###### Print the message,\n",
    "###### My friend’s favorite foods are:, and then use a for loop to print the second list.\n",
    "    \n",
    "##### NOTE: Make sure each new dish is stored in the appropriate list."
   ]
  },
  {
   "cell_type": "code",
   "execution_count": 45,
   "metadata": {},
   "outputs": [],
   "source": [
    "friend_foods= [\"Biryani\",\"Pizza\",\"Tikka\",\"Chapli Kebab\",\"Broast\",\"Chicken Mayo Roll\",\"Double Decker\",\"Allo ke Chips\",\"Ande wala burger\"]"
   ]
  },
  {
   "cell_type": "code",
   "execution_count": 46,
   "metadata": {},
   "outputs": [],
   "source": [
    "foods.append('Seekh Kebab')"
   ]
  },
  {
   "cell_type": "code",
   "execution_count": 52,
   "metadata": {},
   "outputs": [],
   "source": [
    "friend_foods.append('Salsa')"
   ]
  },
  {
   "cell_type": "code",
   "execution_count": 53,
   "metadata": {},
   "outputs": [
    {
     "name": "stdout",
     "output_type": "stream",
     "text": [
      "['Biryani', 'Pizza', 'Tikka', 'Chapli Kebab', 'Broast', 'Chicken Mayo Roll', 'Double Decker', 'Allo ke Chips', 'Ande wala burger', 'Seekh Kebab']\n"
     ]
    }
   ],
   "source": [
    "print(foods)"
   ]
  },
  {
   "cell_type": "code",
   "execution_count": 54,
   "metadata": {},
   "outputs": [
    {
     "name": "stdout",
     "output_type": "stream",
     "text": [
      "['Biryani', 'Pizza', 'Tikka', 'Chapli Kebab', 'Broast', 'Chicken Mayo Roll', 'Double Decker', 'Allo ke Chips', 'Ande wala burger', 'salsa', 'Salsa']\n"
     ]
    }
   ],
   "source": [
    "print(friend_foods)"
   ]
  },
  {
   "cell_type": "code",
   "execution_count": 61,
   "metadata": {},
   "outputs": [
    {
     "name": "stdout",
     "output_type": "stream",
     "text": [
      "My favourite Foods are : Biryani\n",
      "My favourite Foods are : Pizza\n",
      "My favourite Foods are : Tikka\n",
      "My favourite Foods are : Chapli Kebab\n",
      "My favourite Foods are : Broast\n",
      "My favourite Foods are : Chicken Mayo Roll\n",
      "My favourite Foods are : Double Decker\n",
      "My favourite Foods are : Allo ke Chips\n",
      "My favourite Foods are : Ande wala burger\n",
      "My favourite Foods are : Seekh Kebab\n"
     ]
    }
   ],
   "source": [
    " for i in foods:\n",
    "        print(f'My favourite Foods are : {i}')"
   ]
  },
  {
   "cell_type": "code",
   "execution_count": 62,
   "metadata": {},
   "outputs": [
    {
     "name": "stdout",
     "output_type": "stream",
     "text": [
      "My Favourite Foods are: Biryani\n",
      "My Favourite Foods are: Pizza\n",
      "My Favourite Foods are: Tikka\n",
      "My Favourite Foods are: Chapli Kebab\n",
      "My Favourite Foods are: Broast\n",
      "My Favourite Foods are: Chicken Mayo Roll\n",
      "My Favourite Foods are: Double Decker\n",
      "My Favourite Foods are: Allo ke Chips\n",
      "My Favourite Foods are: Ande wala burger\n",
      "My Favourite Foods are: salsa\n",
      "My Favourite Foods are: Salsa\n"
     ]
    }
   ],
   "source": [
    "for i in  friend_foods:\n",
    "    print(f\"My Favourite Foods are: {i}\")"
   ]
  },
  {
   "cell_type": "markdown",
   "metadata": {},
   "source": [
    "# Q9:"
   ]
  },
  {
   "cell_type": "markdown",
   "metadata": {},
   "source": [
    "Take a user input from console line.Store it in a variable called Alien_color.\n",
    "\n",
    "If the alien’s color is red, print a statement that the player just earned 5 points for shooting the alien.\n",
    "\n",
    "If the alien’s color isn’t green, print a statement that the player just earned 10 points.\n",
    "\n",
    "If the alien's color isn't red or green , print a statment :, Alien is no more....."
   ]
  },
  {
   "cell_type": "code",
   "execution_count": 4,
   "metadata": {},
   "outputs": [
    {
     "name": "stdout",
     "output_type": "stream",
     "text": [
      "Enter your color : green\n",
      "Alien is no more\n"
     ]
    }
   ],
   "source": [
    "Alien_color = input(\"Enter your color : \")\n",
    "if 'red' in Alien_color:\n",
    "    print(\"You just earned 5 points for shoooting an alien\")\n",
    "if 'green' not in Alien_color:\n",
    "    print(\"You just earned 10 points for shoooting an alien\")\n",
    "else:\n",
    "    print(\"Alien is no more\")"
   ]
  },
  {
   "cell_type": "markdown",
   "metadata": {},
   "source": [
    "# Q10:"
   ]
  },
  {
   "cell_type": "markdown",
   "metadata": {},
   "source": [
    "Write an if-elif-else chain that determines a person’s\n",
    "stage of life. Set a value for the variable age, and then:\n",
    "    \n",
    "•\t If the person is less than 2 years old, print a message that the person is a baby.\n",
    "\n",
    "•\t If the person is at least 2 years old but less than 4, print a message that the person is a toddler.\n",
    "\n",
    "•\t If the person is at least 4 years old but less than 13, print a message that the person is a kid.\n",
    "\n",
    "•\t If the person is at least 13 years old but less than 20, print a message that the person is a teenager.\n",
    "\n",
    "•\t If the person is at least 20 years old but less than 65, print a message that the person is an adult.\n",
    "\n",
    "•\t If the person is age 65 or older, print a message that the person is an elder."
   ]
  },
  {
   "cell_type": "code",
   "execution_count": 10,
   "metadata": {},
   "outputs": [
    {
     "name": "stdout",
     "output_type": "stream",
     "text": [
      "Enter your age : 20\n",
      "The person is a adult\n"
     ]
    }
   ],
   "source": [
    "age = int(input(\"Enter your age : \"))\n",
    "if age<2 :\n",
    "    print(\"The person is a baby\")\n",
    "elif age<=2 or age<4:\n",
    "    print(\"The person is a toddler\")\n",
    "elif age<=4 or age<13:\n",
    "    print(\"The person is a kid\")\n",
    "elif age<=13 or age<20:\n",
    "    print(\"The person is a teenager\")    \n",
    "elif age<=20 or age<65:\n",
    "    print(\"The person is a adult\")\n",
    "else:\n",
    "    print(\"The person is elder\")"
   ]
  },
  {
   "cell_type": "markdown",
   "metadata": {},
   "source": [
    "# Q11:"
   ]
  },
  {
   "cell_type": "markdown",
   "metadata": {},
   "source": [
    "Do the following to create a program that simulates how websites ensure that everyone has a unique username.\n",
    "\n",
    "•\t Make a list of five or more usernames called current_users.\n",
    "\n",
    "•\t Make another list of five usernames called new_users. \n",
    "Make sure one or two of the new usernames are also in the current_users list.\n",
    "\n",
    "•\t Loop through the new_users list to see if each new username has already been used. \n",
    "If it has, print a message that the person will need to enter a new username. \n",
    "If a username has not been used, print a message saying that the username is available.\n",
    "\n",
    "•\t Make sure your comparison is case insensitive. If 'John' has been used, 'JOHN' should not be accepted."
   ]
  },
  {
   "cell_type": "code",
   "execution_count": 11,
   "metadata": {},
   "outputs": [],
   "source": [
    "current_users = [\"Wajid\",\"Abdul\",\"Maverick\",\"Kaleem\",\"Cheryl\",\"Veronica\"]"
   ]
  },
  {
   "cell_type": "code",
   "execution_count": 12,
   "metadata": {},
   "outputs": [],
   "source": [
    "new_users = [\"Wajid\",\"Maverick\",\"Hannah\",\"Bethy\",\"Jughead\"]"
   ]
  },
  {
   "cell_type": "code",
   "execution_count": 21,
   "metadata": {},
   "outputs": [
    {
     "name": "stdout",
     "output_type": "stream",
     "text": [
      "Username 'Wajid' Should not accept. Please enter new username\n",
      "Username 'Maverick' Should not accept. Please enter new username\n",
      "Username 'Hannah' is avialble\n",
      "Username 'Bethy' is avialble\n",
      "Username 'Jughead' is avialble\n"
     ]
    }
   ],
   "source": [
    "for name in new_users:\n",
    "    if name in current_users:\n",
    "        x = name\n",
    "        print(\"Username\",\"'\"+x+\"'\"\" Should not accept. Please enter new username\")\n",
    "    else:\n",
    "        y = name\n",
    "        print(\"Username\",\"'\"+y+\"'\",\"is avialble\")"
   ]
  },
  {
   "cell_type": "markdown",
   "metadata": {},
   "source": [
    "# Q12:"
   ]
  },
  {
   "cell_type": "markdown",
   "metadata": {},
   "source": [
    "Use a dictionary to store information about a person you know.\n",
    "Store their first name, last name, age, and the city in which they live. \n",
    "You should have keys such as first_name, last_name, age, and city. \n",
    "Print each piece of information stored in your dictionary"
   ]
  },
  {
   "cell_type": "code",
   "execution_count": 26,
   "metadata": {},
   "outputs": [],
   "source": [
    "information = {\"First_name\":\"Veronica\",\"Last_name\":\"Lodge\",\"Age\":\"20\",\"City\":\"Riverdale\"}"
   ]
  },
  {
   "cell_type": "code",
   "execution_count": 27,
   "metadata": {},
   "outputs": [
    {
     "name": "stdout",
     "output_type": "stream",
     "text": [
      "First_name Veronica\n",
      "Last_name Lodge\n",
      "Age 20\n",
      "City Riverdale\n"
     ]
    }
   ],
   "source": [
    "for d,e in information.items():\n",
    "    print(d,e)"
   ]
  },
  {
   "cell_type": "markdown",
   "metadata": {},
   "source": [
    "# Q13:"
   ]
  },
  {
   "cell_type": "markdown",
   "metadata": {},
   "source": [
    "Starts with your last question 12 , loop through the dictionary’s keys and values.\n",
    "When you’re sure that your loop works, add five more Python terms to your\n",
    "dictionary . When you run your program again, these new words and meanings\n",
    "should automatically be included in the output."
   ]
  },
  {
   "cell_type": "code",
   "execution_count": 28,
   "metadata": {},
   "outputs": [],
   "source": [
    "information[\"Accent\"]=\"American\"\n",
    "information[\"Caste\"]=\"Latina\"\n",
    "information[\"Financial Status\"]=\"Rich\"\n",
    "information[\"Born City\"]=\"New York\"\n",
    "information[\"Education\"]=\"University\""
   ]
  },
  {
   "cell_type": "code",
   "execution_count": 29,
   "metadata": {},
   "outputs": [
    {
     "name": "stdout",
     "output_type": "stream",
     "text": [
      "First_name Veronica\n",
      "Last_name Lodge\n",
      "Age 20\n",
      "City Riverdale\n",
      "Accent American\n",
      "Caste Latina\n",
      "Financial Status Rich\n",
      "Born City New York\n",
      "Education University\n"
     ]
    }
   ],
   "source": [
    "for d,e in information.items():\n",
    "    print(d,e)"
   ]
  },
  {
   "cell_type": "markdown",
   "metadata": {},
   "source": [
    "# Q14:"
   ]
  },
  {
   "cell_type": "markdown",
   "metadata": {},
   "source": [
    "Make a dictionary containing three major rivers and the country\n",
    "each river runs through. One key-value pair might be 'nile': 'egypt'.\n",
    "    \n",
    "    \n",
    "•\t Use a loop to print a sentence about each river, such as The Nile runs\n",
    "through Egypt.\n",
    "\n",
    "NOTE: use upper case through keys and values."
   ]
  },
  {
   "cell_type": "code",
   "execution_count": 31,
   "metadata": {},
   "outputs": [],
   "source": [
    "rivers = {\"Nile\":\"Egypt\",\"Indus\":\"Pakistan\",\"Amazon\":\"Brazil\"}"
   ]
  },
  {
   "cell_type": "code",
   "execution_count": 33,
   "metadata": {},
   "outputs": [
    {
     "name": "stdout",
     "output_type": "stream",
     "text": [
      "The NILE runs through EGYPT\n",
      "The INDUS runs through PAKISTAN\n",
      "The AMAZON runs through BRAZIL\n"
     ]
    }
   ],
   "source": [
    "for r,c in rivers.items():\n",
    "    print(f\"The {r.upper()} runs through {c.upper()}\")"
   ]
  },
  {
   "cell_type": "markdown",
   "metadata": {},
   "source": [
    "# Q15:"
   ]
  },
  {
   "cell_type": "markdown",
   "metadata": {},
   "source": [
    "Make several dictionaries, where the name of each dictionary is the\n",
    "name of a pet. In each dictionary, include the kind of animal and the owner’s\n",
    "name. Store these dictionaries in a list called pets. Next, loop through your list\n",
    "and as you do print everything you know about each pet."
   ]
  },
  {
   "cell_type": "code",
   "execution_count": 41,
   "metadata": {
    "scrolled": true
   },
   "outputs": [
    {
     "name": "stdout",
     "output_type": "stream",
     "text": [
      "kind: goat\n",
      "owner_name: Archy\n",
      "\n",
      "kind: cat\n",
      "owner_name: kashif\n",
      "\n",
      "kind: bird\n",
      "owner_name: Kaleem\n",
      "\n"
     ]
    }
   ],
   "source": [
    "tt = {\"kind\": \"goat\", \"owner_name\": \"Archy\"}\n",
    "\n",
    "oliver = {\"kind\": \"cat\",\"owner_name\": \"kashif\"}\n",
    "\n",
    "birdy = {\"kind\": \"bird\",\"owner_name\": \"Kaleem\"}\n",
    "\n",
    "pets = [tt, oliver, birdy]\n",
    "\n",
    "for pet in pets:\n",
    "    for key, value in pet.items():\n",
    "        print(key + \": \" + value)\n",
    "    print()"
   ]
  }
 ],
 "metadata": {
  "kernelspec": {
   "display_name": "Python 3",
   "language": "python",
   "name": "python3"
  },
  "language_info": {
   "codemirror_mode": {
    "name": "ipython",
    "version": 3
   },
   "file_extension": ".py",
   "mimetype": "text/x-python",
   "name": "python",
   "nbconvert_exporter": "python",
   "pygments_lexer": "ipython3",
   "version": "3.7.3"
  }
 },
 "nbformat": 4,
 "nbformat_minor": 2
}
